{
 "cells": [
  {
   "cell_type": "code",
   "execution_count": 2,
   "metadata": {},
   "outputs": [],
   "source": [
    "import requests\n",
    "import json\n",
    "from abc import ABC, abstractmethod\n",
    "from typing import List, Dict, Tuple, Any, Optional\n",
    "url = \"http://localhost:5000\""
   ]
  },
  {
   "cell_type": "code",
   "execution_count": 3,
   "metadata": {},
   "outputs": [],
   "source": [
    "class SessionTest(requests.Session):\n",
    "    def __init__(self, url):\n",
    "        super().__init__()\n",
    "        self.url = url\n",
    "    def get(self, url, **kwargs):\n",
    "        return super().get(self.url +\"/\" + url, **kwargs)\n",
    "    def post(self, url, **kwargs):\n",
    "        return super().post(self.url +\"/\" + url, **kwargs)\n",
    "    def put(self, url, **kwargs):\n",
    "        return super().put(self.url +\"/\" + url, **kwargs)\n",
    "    def delete(self, url, **kwargs):\n",
    "        return super().delete(self.url +\"/\" + url, **kwargs)\n",
    "    def patch(self, url, **kwargs):\n",
    "        return super().patch(self.url +\"/\" + url, **kwargs)\n",
    "    def head(self, url, **kwargs):\n",
    "        return super().head(self.url +\"/\" + url, **kwargs)\n",
    "s = SessionTest(url)"
   ]
  },
  {
   "cell_type": "code",
   "execution_count": 5,
   "metadata": {},
   "outputs": [],
   "source": [
    "def login(s: SessionTest,username, password):\n",
    "    data = {\"username\": username, \"password\": password}\n",
    "    r = s.post(\"login\", data=data)\n",
    "    return r.json()\n",
    "\n",
    "def logout(s: SessionTest):\n",
    "    r = s.get(\"logout\")\n",
    "    return r.json()"
   ]
  },
  {
   "cell_type": "code",
   "execution_count": 223,
   "metadata": {},
   "outputs": [
    {
     "data": {
      "text/plain": [
       "{'message': 'OK', 'status': 200}"
      ]
     },
     "execution_count": 223,
     "metadata": {},
     "output_type": "execute_result"
    }
   ],
   "source": [
    "login(s,\"bankca\",\"@Aa12345678\")"
   ]
  },
  {
   "cell_type": "code",
   "execution_count": 222,
   "metadata": {},
   "outputs": [
    {
     "name": "stdout",
     "output_type": "stream",
     "text": [
      "{'message': 'OK', 'status': 200}\n"
     ]
    }
   ],
   "source": [
    "# logout\n",
    "logout = s.get(\"logout\")\n",
    "print(logout.json())"
   ]
  },
  {
   "cell_type": "code",
   "execution_count": 224,
   "metadata": {},
   "outputs": [
    {
     "data": {
      "text/plain": [
       "{'data': ['Thu, 14 Dec 2023 11:19:55 GMT',\n",
       "  'BANK CA',\n",
       "  'bankca',\n",
       "  'bankca@example.com',\n",
       "  'F',\n",
       "  'Wed, 14 Feb 1990 00:00:00 GMT',\n",
       "  4444444444,\n",
       "  '999999999999',\n",
       "  2,\n",
       "  'CA'],\n",
       " 'message': 'OK',\n",
       " 'status': 200}"
      ]
     },
     "execution_count": 224,
     "metadata": {},
     "output_type": "execute_result"
    }
   ],
   "source": [
    "# get me\n",
    "me = s.get(\"api/me\")\n",
    "me.json()"
   ]
  },
  {
   "cell_type": "code",
   "execution_count": 23,
   "metadata": {},
   "outputs": [],
   "source": [
    "logout = requests.get(url + \"/logout\")"
   ]
  },
  {
   "cell_type": "code",
   "execution_count": 243,
   "metadata": {},
   "outputs": [
    {
     "data": {
      "text/plain": [
       "{'data': [{'ACC_TYPE': 'C',\n",
       "   'CLIMIT': 10000000,\n",
       "   'CM_COMMENT': None,\n",
       "   'C_ADDR': 'HCM',\n",
       "   'C_CCCD': '777777777777',\n",
       "   'C_EMAIL': 'daniel@example.com',\n",
       "   'C_INCOME': 10000000,\n",
       "   'C_NAME': 'Daniel',\n",
       "   'C_PHONE_NUM': 123456789,\n",
       "   'ID': 1,\n",
       "   'ISAPPROVED': 'N',\n",
       "   'STATUS': 1}],\n",
       " 'message': 'OK',\n",
       " 'status': 200}"
      ]
     },
     "execution_count": 243,
     "metadata": {},
     "output_type": "execute_result"
    }
   ],
   "source": [
    "logout(s)\n",
    "login(s,\"bankca\",\"@Aa12345678\")\n",
    "s.get(\"api/applications\").json()"
   ]
  },
  {
   "cell_type": "code",
   "execution_count": 244,
   "metadata": {},
   "outputs": [
    {
     "data": {
      "text/plain": [
       "{'data': [{'ANALYSIS': None,\n",
       "   'A_ID': 1,\n",
       "   'ISREAD': 'N',\n",
       "   'LAST_UPDATED': None,\n",
       "   'S_ID': 2},\n",
       "  {'ANALYSIS': None,\n",
       "   'A_ID': 2,\n",
       "   'ISREAD': 'N',\n",
       "   'LAST_UPDATED': None,\n",
       "   'S_ID': 2}],\n",
       " 'message': 'OK',\n",
       " 'status': 200}"
      ]
     },
     "execution_count": 244,
     "metadata": {},
     "output_type": "execute_result"
    }
   ],
   "source": [
    "logout(s)\n",
    "login(s,\"bankca\",\"@Aa12345678\")\n",
    "s.get(\"api/analyze\").json()"
   ]
  },
  {
   "cell_type": "code",
   "execution_count": 30,
   "metadata": {},
   "outputs": [
    {
     "data": {
      "text/plain": [
       "{'data': [], 'message': 'OK', 'status': 200}"
      ]
     },
     "execution_count": 30,
     "metadata": {},
     "output_type": "execute_result"
    }
   ],
   "source": [
    "logout(s)\n",
    "login(s,\"sarah\",\"@Aa12345678\")\n",
    "# \n",
    "data = {\n",
    "    \"acc_type\": \"C\" ,\n",
    "    \"climit\": 10000000, \n",
    "    \"c_name\": \"sarah\", \n",
    "    \"c_income\": 10000000, \n",
    "    \"c_cccd\": \"777777777799\",\n",
    "    \"c_phone_num\": 12345543210, \n",
    "    \"c_addr\": \"HCM\", \n",
    "    \"c_email\": \"sarah@abc.com\",\n",
    "}\n",
    "# s.post(\"api/applications\", data=data)\n",
    "s.get(\"api/applications\").json()"
   ]
  },
  {
   "cell_type": "code",
   "execution_count": 24,
   "metadata": {},
   "outputs": [],
   "source": [
    "cm = SessionTest(url)"
   ]
  },
  {
   "cell_type": "code",
   "execution_count": 29,
   "metadata": {},
   "outputs": [
    {
     "name": "stdout",
     "output_type": "stream",
     "text": [
      "{'message': 'OK', 'status': 200}\n"
     ]
    },
    {
     "data": {
      "text/plain": [
       "{'data': [{'ACC_TYPE': 'C',\n",
       "   'CLIMIT': 10000000,\n",
       "   'CM_COMMENT': None,\n",
       "   'C_ADDR': 'HCM',\n",
       "   'C_CCCD': '777777777777',\n",
       "   'C_EMAIL': 'daniel@example.com',\n",
       "   'C_INCOME': 10000000,\n",
       "   'C_NAME': 'Daniel',\n",
       "   'C_PHONE_NUM': 123456789,\n",
       "   'ID': 1,\n",
       "   'ISAPPROVED': 'N',\n",
       "   'STATUS': 1},\n",
       "  {'ACC_TYPE': 'D',\n",
       "   'CLIMIT': 10000000,\n",
       "   'CM_COMMENT': None,\n",
       "   'C_ADDR': 'HCM',\n",
       "   'C_CCCD': '888888888888',\n",
       "   'C_EMAIL': 'bankcm@example.com',\n",
       "   'C_INCOME': 10000000,\n",
       "   'C_NAME': 'BANK_CM',\n",
       "   'C_PHONE_NUM': 123456788,\n",
       "   'ID': 2,\n",
       "   'ISAPPROVED': 'N',\n",
       "   'STATUS': 0}],\n",
       " 'message': 'OK',\n",
       " 'status': 200}"
      ]
     },
     "execution_count": 29,
     "metadata": {},
     "output_type": "execute_result"
    }
   ],
   "source": [
    "logout(cm)\n",
    "print(login(cm,\"bankcm\",\"@Aa12345678\"))\n",
    "# \n",
    "data = {\n",
    "    \"id\":13\n",
    "}\n",
    "cm.delete(\"api/applications\", data=data)\n",
    "cm.get(\"api/applications\").json()\n"
   ]
  },
  {
   "cell_type": "code",
   "execution_count": null,
   "metadata": {},
   "outputs": [],
   "source": []
  }
 ],
 "metadata": {
  "kernelspec": {
   "display_name": "venv",
   "language": "python",
   "name": "python3"
  },
  "language_info": {
   "codemirror_mode": {
    "name": "ipython",
    "version": 3
   },
   "file_extension": ".py",
   "mimetype": "text/x-python",
   "name": "python",
   "nbconvert_exporter": "python",
   "pygments_lexer": "ipython3",
   "version": "3.10.8"
  }
 },
 "nbformat": 4,
 "nbformat_minor": 2
}
